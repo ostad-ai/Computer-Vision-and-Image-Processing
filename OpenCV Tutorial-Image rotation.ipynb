{
 "cells": [
  {
   "cell_type": "markdown",
   "metadata": {},
   "source": [
    "# OpenCV Tutorial: Image rotation\n",
    "Address: https://github.com/ostad-ai/Computer-Vision-and-Image-Processing"
   ]
  },
  {
   "cell_type": "code",
   "execution_count": 1,
   "metadata": {},
   "outputs": [],
   "source": [
    "#---importing modules\n",
    "import cv2\n",
    "import numpy as np"
   ]
  },
  {
   "cell_type": "code",
   "execution_count": 2,
   "metadata": {},
   "outputs": [],
   "source": [
    "Rows,Cols=300,400 #the size of the image\n",
    "windowName='OpenCV Tutorial: Image Rotation (Interactive)'\n",
    "trackbarName='Rotate'\n",
    "color_rect1=(255,255,255) #(blue,green,red)\n",
    "color_rect2=(255,0,255)\n",
    "leftTop,rightBottom1,rightBottom2=(100,130),(200,170),(300,170) #(x,y)\n",
    "#----creating a blank image\n",
    "image=np.zeros((Rows,Cols,3),np.uint8)\n",
    "#----filling the image with two rectangles\n",
    "cv2.rectangle(image,leftTop,rightBottom1,color_rect1,-1)\n",
    "cv2.rectangle(image,(rightBottom1[0],leftTop[1]),rightBottom2,color_rect2,-1)\n",
    "original=image.copy()\n",
    "#------\n",
    "cv2.namedWindow(windowName)\n",
    "description='OpenCV Tutorial: Image rotation'\n",
    "affilliation='https://github.com/ostad-ai/Computer-Vision-and-Image-Processing'\n",
    "\n",
    "#----callback function to rotate image around its center\n",
    "def rotateImage(angle):\n",
    "    global image\n",
    "    center=original.shape[1]//2,original.shape[0]//2  #center_x,center_y\n",
    "    scale=1\n",
    "    #rotation matrix\n",
    "    rot_mat = cv2.getRotationMatrix2D(center,angle,scale)\n",
    "    image=cv2.warpAffine(original, rot_mat, (original.shape[1], original.shape[0]))\n",
    "    \n",
    "#----create trackbar to modify angle of rotation\n",
    "cv2.createTrackbar(trackbarName,windowName,0,359,rotateImage)\n",
    "#----main loop\n",
    "while True:\n",
    "    cv2.putText(image,description,(10,Rows-25),\n",
    "              cv2.FONT_HERSHEY_PLAIN,1.1,(255,255,255),1)\n",
    "    cv2.putText(image,affilliation,(5,Rows-10),\n",
    "              cv2.FONT_HERSHEY_PLAIN,.65,(255,255,255),1)\n",
    "    cv2.imshow(windowName,image)  #show the image in the window\n",
    "    key=cv2.waitKey(1) & 0xff\n",
    "    if key==27: #ESCAPE key to close the window\n",
    "        break\n",
    "    # closing window by clicking on Close button\n",
    "    if cv2.getWindowProperty(windowName, cv2.WND_PROP_VISIBLE) <1:\n",
    "        break\n",
    "cv2.destroyAllWindows()"
   ]
  },
  {
   "cell_type": "code",
   "execution_count": null,
   "metadata": {},
   "outputs": [],
   "source": []
  }
 ],
 "metadata": {
  "kernelspec": {
   "display_name": "Python 3",
   "language": "python",
   "name": "python3"
  },
  "language_info": {
   "codemirror_mode": {
    "name": "ipython",
    "version": 3
   },
   "file_extension": ".py",
   "mimetype": "text/x-python",
   "name": "python",
   "nbconvert_exporter": "python",
   "pygments_lexer": "ipython3",
   "version": "3.8.3"
  }
 },
 "nbformat": 4,
 "nbformat_minor": 2
}
