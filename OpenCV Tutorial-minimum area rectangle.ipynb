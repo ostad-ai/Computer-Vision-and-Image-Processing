{
 "cells": [
  {
   "cell_type": "markdown",
   "metadata": {},
   "source": [
    "# OpenCV Tutorial: Minimum Area Rectangle\n",
    "Address: https://github.com/ostad-ai/Computer-Vision-and-Image-Processing"
   ]
  },
  {
   "cell_type": "code",
   "execution_count": 6,
   "metadata": {},
   "outputs": [],
   "source": [
    "# importing modules\n",
    "# درونبَری سنجانه‌ها\n",
    "import cv2\n",
    "import numpy as np\n",
    "import random"
   ]
  },
  {
   "cell_type": "markdown",
   "metadata": {},
   "source": [
    "For a set points, the bounding rectangle of the points with minimum area is found by cv2.minAreaRect<br>\n",
    "برای یک هنگت از نقطه‌ها، راستگوشه دربرگیرنده نقطه‌ها، که کمترین پهنه را دارد؛ با دستور مین-اریا-رکت یافت میشود"
   ]
  },
  {
   "cell_type": "code",
   "execution_count": 7,
   "metadata": {},
   "outputs": [],
   "source": [
    "Rows,Cols=300,400 #the size of the image\n",
    "# creating a blank image with text: Hello World\n",
    "image=np.zeros((Rows,Cols,3),np.uint8)\n",
    "text='Hello World'\n",
    "centerX,centerY=Cols//2,Rows//2\n",
    "cv2.putText(image,text,(centerX-100,centerY),\n",
    "              cv2.FONT_HERSHEY_PLAIN,2.1,(255,255,255),2)\n",
    "original=image.copy()\n",
    "# window name\n",
    "windowName='OpenCV Tutorial: Minimum Area Rectangle, Demo.'\n",
    "description='OpenCV Tutorial: Minimum Area Rectangle'\n",
    "affilliation='https://github.com/ostad-ai/Computer-Vision-and-Image-Processing'\n",
    "# rotate image around its center with the given angle\n",
    "def rotateImage(angle):\n",
    "    global image\n",
    "    center=original.shape[1]//2,original.shape[0]//2  #center_x,center_y\n",
    "    scale=1\n",
    "    #rotation matrix\n",
    "    rot_mat = cv2.getRotationMatrix2D(center,angle,scale)\n",
    "    image=cv2.warpAffine(original, rot_mat, (original.shape[1], original.shape[0]))\n",
    "#choose random angle to rotate image\n",
    "def rotate():\n",
    "    angle=random.randrange(-89,90)\n",
    "    rotateImage(angle)\n",
    "    return angle\n",
    "def draw_bbox(): #draw bounding box (rectangle) \n",
    "    global image\n",
    "    gray=image[:,:,0]\n",
    "    points=np.column_stack(np.where(gray>0))\n",
    "    points[:,0],points[:,1]=points[:,1],points[:,0].copy()\n",
    "    rect=cv2.minAreaRect(points)\n",
    "    #--draw contour on the image\n",
    "    box = cv2.boxPoints(rect) \n",
    "    box = np.int0(box)\n",
    "    cv2.drawContours(image,[box],0,(0,0,255),2)\n",
    "# main loop\n",
    "while True:\n",
    "    angle=rotate()\n",
    "    draw_bbox()\n",
    "    cv2.putText(image,f'Angle: {angle:.3f}',(10,Rows-43),\n",
    "              cv2.FONT_HERSHEY_PLAIN,1.1,(255,255,255),1)\n",
    "    cv2.putText(image,description,(10,Rows-25),\n",
    "              cv2.FONT_HERSHEY_PLAIN,1.1,(255,255,255),1)\n",
    "    cv2.putText(image,affilliation,(5,Rows-10),\n",
    "              cv2.FONT_HERSHEY_PLAIN,.65,(255,255,255),1)\n",
    "    cv2.imshow(windowName,image)  #show the image in the window\n",
    "    key=cv2.waitKey(-1) & 0xff  #press any key to proceed\n",
    "    if key==27: #ESCAPE key to close the window\n",
    "        break\n",
    "    # closing window by clicking on Close button\n",
    "    if cv2.getWindowProperty(windowName, cv2.WND_PROP_VISIBLE) <1:\n",
    "        break\n",
    "cv2.destroyAllWindows()"
   ]
  },
  {
   "cell_type": "code",
   "execution_count": null,
   "metadata": {},
   "outputs": [],
   "source": []
  }
 ],
 "metadata": {
  "kernelspec": {
   "display_name": "Python 3",
   "language": "python",
   "name": "python3"
  },
  "language_info": {
   "codemirror_mode": {
    "name": "ipython",
    "version": 3
   },
   "file_extension": ".py",
   "mimetype": "text/x-python",
   "name": "python",
   "nbconvert_exporter": "python",
   "pygments_lexer": "ipython3",
   "version": "3.8.3"
  }
 },
 "nbformat": 4,
 "nbformat_minor": 2
}
